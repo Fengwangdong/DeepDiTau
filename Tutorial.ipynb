{
 "cells": [
  {
   "cell_type": "markdown",
   "metadata": {},
   "source": [
    "# DeepDiTau Jet Tagging\n",
    "\n",
    "This notebook will discuss tagging particle flow jets as originating from boosted ditaus.\n",
    "The physics motivation of this tagging is in the context of the search for $h \\to aa \\to \\mu\\mu\\tau\\tau$.\n",
    "If the mass difference between the Higgs scalar $h$ and the pseudoscalar $a$ is sufficient, the two decay products will have small separation.\n",
    "In the case of two $\\tau$ candidates, the overlapping decay products will cause the standard CMS Hadron Plus Strip (HPS) algorithm to fail to identify the $\\tau$ leptons."
   ]
  },
  {
   "cell_type": "markdown",
   "metadata": {},
   "source": [
    "## Overview\n",
    "\n",
    "Jets are reconstructed using [CMSSW](https://github.com/cms-sw/cmssw/).\n",
    "At its core, a jet is a cluster of particles selected via a distance metric.\n",
    "The most common approach used in CMS is to reconstruct jets with the [anti-$k_{t}$ algorithm](https://arxiv.org/abs/0802.1189).\n",
    "The jets used in this study are anti-$k_{t}$ jets with distance parameter $R=0.4$ (AK4). Alternative approaches can use a larger distance parameter (AK8) or an alternative jet clustering algorithm Cambridge-Aachen (CA8).\n",
    "\n",
    "Jets are most commonly produced from either gluons or quarks with quarks of different flavors typically having different properties (light jets arising from $u$, $d$, or $s$ quarks, and heavy jets arising from $c$ or $b$ quarks). Additionally, $\\tau$ leptons, when they decay hadronically, will produce a jet signature.\n",
    "\n",
    "The dataformat most commonly used in high energy physics (HEP) is the [ROOT](https://root.cern.ch/) TTree.\n",
    "For this study, a simple module to dump the CMS representation of a jet into a TTree can be found [here](https://github.com/dntaylor/DevTools-Ntuplizer/blob/106X/src/DeepJetTree.cc).\n",
    "\n",
    "The remainder of this notebook will discuss converting this HEP-based dataformat into a representation useable by standard python-based machine learning tools."
   ]
  },
  {
   "cell_type": "markdown",
   "metadata": {},
   "source": [
    "## Conversion\n",
    "\n",
    "This section will discuss the conversion step implemented in [convert.py](convert.py).\n",
    "The conversion step reads in ROOT TTrees using [uproot](https://github.com/scikit-hep/uproot) and outputs [numpy](https://github.com/numpy/numpy) arrays in a format that is easily readable for the training step. As an intermediate step, `JaggedArray`s from the [awkward](https://github.com/scikit-hep/awkward-array) package are used. These are modified `numpy` arrays with an additional array of `offsets` that add an additional jagged dimension to the array. This is a common data structure within HEP analysis. Any number of particles can be reconstructed in a given event. This jagged structure is not well supported by many machine learning tools which typically expect fixed array structures. There are many approaches to handling this feature, some of which will be discussed here."
   ]
  },
  {
   "cell_type": "code",
   "execution_count": 1,
   "metadata": {},
   "outputs": [],
   "source": [
    "import os\n",
    "import random\n",
    "import numpy as np\n",
    "import uproot\n",
    "import awkward"
   ]
  },
  {
   "cell_type": "markdown",
   "metadata": {},
   "source": [
    "For this study, we will use two types of Monte Carlo (MC) simulation physics process samples.\n",
    "The first is $t\\bar{t}$ production which will produce a mix of $b$-jets and light quark jets.\n",
    "The second is a signal sample which will produce our boosted $\\tau\\tau$ signatures.\n",
    "In the full analysis, a third sample is used which includes only QCD production and primarily produces light quark jets."
   ]
  },
  {
   "cell_type": "code",
   "execution_count": 2,
   "metadata": {},
   "outputs": [],
   "source": [
    "inDir = '../crab_2020-01-23_DeepJetTree_94X_v2'\n",
    "fnames = []\n",
    "for r, d, f in os.walk(inDir):\n",
    "    for fname in f:\n",
    "        if fname.endswith('.root'):\n",
    "            fnames += [os.path.join(r,fname)]\n",
    "random.shuffle(fnames)\n",
    "sigfname = next(f for f in fnames if 'SUSY' in f)\n",
    "ttfname = next(f for f in fnames if 'TTJets' in f)"
   ]
  },
  {
   "cell_type": "markdown",
   "metadata": {},
   "source": [
    "Let's look at the tree structure."
   ]
  },
  {
   "cell_type": "code",
   "execution_count": 3,
   "metadata": {},
   "outputs": [
    {
     "name": "stdout",
     "output_type": "stream",
     "text": [
      "num_vertices               (no streamer)              asdtype('>i4')\n",
      "jet_pt                     (no streamer)              asdtype('>f4')\n",
      "jet_eta                    (no streamer)              asdtype('>f4')\n",
      "jet_phi                    (no streamer)              asdtype('>f4')\n",
      "jet_energy                 (no streamer)              asdtype('>f4')\n",
      "jet_mass                   (no streamer)              asdtype('>f4')\n",
      "jet_jetCharge              (no streamer)              asdtype('>f4')\n",
      "jet_chargedMultiplicity    (no streamer)              asdtype('>f4')\n",
      "jet_neutralMultiplicity    (no streamer)              asdtype('>f4')\n",
      "jet_chargedHadronMultiplicity\n",
      "                           (no streamer)              asdtype('>f4')\n",
      "jet_neutralHadronMultiplicity\n",
      "                           (no streamer)              asdtype('>f4')\n",
      "jet_muonMultiplicity       (no streamer)              asdtype('>f4')\n",
      "jet_electronMultiplicity   (no streamer)              asdtype('>f4')\n",
      "jet_photonMultiplicity     (no streamer)              asdtype('>f4')\n",
      "jet_chargedEmEnergy        (no streamer)              asdtype('>f4')\n",
      "jet_neutralEmEnergy        (no streamer)              asdtype('>f4')\n",
      "jet_chargedHadronEnergy    (no streamer)              asdtype('>f4')\n",
      "jet_neutralHadronEnergy    (no streamer)              asdtype('>f4')\n",
      "jet_muonEnergy             (no streamer)              asdtype('>f4')\n",
      "jet_electronEnergy         (no streamer)              asdtype('>f4')\n",
      "jet_photonEnergy           (no streamer)              asdtype('>f4')\n",
      "jet_chargedEmEnergyFraction\n",
      "                           (no streamer)              asdtype('>f4')\n",
      "jet_neutralEmEnergyFraction\n",
      "                           (no streamer)              asdtype('>f4')\n",
      "jet_chargedHadronEnergyFraction\n",
      "                           (no streamer)              asdtype('>f4')\n",
      "jet_neutralHadronEnergyFraction\n",
      "                           (no streamer)              asdtype('>f4')\n",
      "jet_muonEnergyFraction     (no streamer)              asdtype('>f4')\n",
      "jet_electronEnergyFraction (no streamer)              asdtype('>f4')\n",
      "jet_photonEnergyFraction   (no streamer)              asdtype('>f4')\n",
      "jet_n60                    (no streamer)              asdtype('>f4')\n",
      "jet_n90                    (no streamer)              asdtype('>f4')\n",
      "jet_hadronFlavour          (no streamer)              asdtype('>f4')\n",
      "jet_partonFlavour          (no streamer)              asdtype('>f4')\n",
      "jet_pfJetBProbabilityBJetTags\n",
      "                           (no streamer)              asdtype('>f4')\n",
      "jet_pfJetProbabilityBJetTags\n",
      "                           (no streamer)              asdtype('>f4')\n",
      "jet_pfTrackCountingHighEffBJetTags\n",
      "                           (no streamer)              asdtype('>f4')\n",
      "jet_pfSimpleSecondaryVertexHighEffBJetTags\n",
      "                           (no streamer)              asdtype('>f4')\n",
      "jet_pfSimpleInclusiveSecondaryVertexHighEffBJetTags\n",
      "                           (no streamer)              asdtype('>f4')\n",
      "jet_pfCombinedSecondaryVertexV2BJetTags\n",
      "                           (no streamer)              asdtype('>f4')\n",
      "jet_pfCombinedInclusiveSecondaryVertexV2BJetTags\n",
      "                           (no streamer)              asdtype('>f4')\n",
      "jet_softPFMuonBJetTags     (no streamer)              asdtype('>f4')\n",
      "jet_softPFElectronBJetTags (no streamer)              asdtype('>f4')\n",
      "jet_pfCombinedMVAV2BJetTags\n",
      "                           (no streamer)              asdtype('>f4')\n",
      "jet_pfCombinedCvsLJetTags  (no streamer)              asdtype('>f4')\n",
      "jet_pfCombinedCvsBJetTags  (no streamer)              asdtype('>f4')\n",
      "jet_pfDeepCSVJetTags_probb (no streamer)              asdtype('>f4')\n",
      "jet_pfDeepCSVJetTags_probc (no streamer)              asdtype('>f4')\n",
      "jet_pfDeepCSVJetTags_probudsg\n",
      "                           (no streamer)              asdtype('>f4')\n",
      "jet_pfDeepCSVJetTags_probbb\n",
      "                           (no streamer)              asdtype('>f4')\n",
      "jet_daughter_pt            TStreamerSTL               asjagged(asdtype('>f4'), 10)\n",
      "jet_daughter_eta           TStreamerSTL               asjagged(asdtype('>f4'), 10)\n",
      "jet_daughter_phi           TStreamerSTL               asjagged(asdtype('>f4'), 10)\n",
      "jet_daughter_energy        TStreamerSTL               asjagged(asdtype('>f4'), 10)\n",
      "jet_daughter_mass          TStreamerSTL               asjagged(asdtype('>f4'), 10)\n",
      "jet_daughter_charge        TStreamerSTL               asjagged(asdtype('>f4'), 10)\n",
      "jet_daughter_etaAtVtx      TStreamerSTL               asjagged(asdtype('>f4'), 10)\n",
      "jet_daughter_phiAtVtx      TStreamerSTL               asjagged(asdtype('>f4'), 10)\n",
      "jet_daughter_vx            TStreamerSTL               asjagged(asdtype('>f4'), 10)\n",
      "jet_daughter_vy            TStreamerSTL               asjagged(asdtype('>f4'), 10)\n",
      "jet_daughter_vz            TStreamerSTL               asjagged(asdtype('>f4'), 10)\n",
      "jet_daughter_dxy           TStreamerSTL               asjagged(asdtype('>f4'), 10)\n",
      "jet_daughter_dxyError      TStreamerSTL               asjagged(asdtype('>f4'), 10)\n",
      "jet_daughter_dz            TStreamerSTL               asjagged(asdtype('>f4'), 10)\n",
      "jet_daughter_dzError       TStreamerSTL               asjagged(asdtype('>f4'), 10)\n",
      "jet_daughter_pdgId         TStreamerSTL               asjagged(asdtype('>f4'), 10)\n",
      "jet_daughter_pixelLayersWithMeasurement\n",
      "                           TStreamerSTL               asjagged(asdtype('>f4'), 10)\n",
      "jet_daughter_stripLayersWithMeasurement\n",
      "                           TStreamerSTL               asjagged(asdtype('>f4'), 10)\n",
      "jet_daughter_trackerLayersWithMeasurement\n",
      "                           TStreamerSTL               asjagged(asdtype('>f4'), 10)\n",
      "jet_daughter_trackHighPurity\n",
      "                           TStreamerSTL               asjagged(asdtype('>f4'), 10)\n",
      "jet_daughter_puppiWeight   TStreamerSTL               asjagged(asdtype('>f4'), 10)\n",
      "jet_daughter_puppiWeightNoLep\n",
      "                           TStreamerSTL               asjagged(asdtype('>f4'), 10)\n",
      "jet_daughter_isIsolatedChargedHadron\n",
      "                           TStreamerSTL               asjagged(asdtype('>f4'), 10)\n",
      "jet_daughter_isStandAloneMuon\n",
      "                           TStreamerSTL               asjagged(asdtype('>f4'), 10)\n",
      "jet_daughter_isTrackerMuon TStreamerSTL               asjagged(asdtype('>f4'), 10)\n",
      "jet_daughter_isGlobalMuon  TStreamerSTL               asjagged(asdtype('>f4'), 10)\n",
      "jet_daughter_isGoodEgamma  TStreamerSTL               asjagged(asdtype('>f4'), 10)\n",
      "jet_isTauHTauH             (no streamer)              asdtype('bool')\n",
      "jet_isTauHTauM             (no streamer)              asdtype('bool')\n",
      "jet_isTauHTauE             (no streamer)              asdtype('bool')\n",
      "jet_isTauMTauM             (no streamer)              asdtype('bool')\n",
      "jet_isTauMTauE             (no streamer)              asdtype('bool')\n",
      "jet_isTauETauE             (no streamer)              asdtype('bool')\n",
      "jet_isTauH                 (no streamer)              asdtype('bool')\n",
      "jet_isTauM                 (no streamer)              asdtype('bool')\n",
      "jet_isTauE                 (no streamer)              asdtype('bool')\n",
      "jet_isB                    (no streamer)              asdtype('bool')\n",
      "jet_isC                    (no streamer)              asdtype('bool')\n",
      "jet_isS                    (no streamer)              asdtype('bool')\n",
      "jet_isUD                   (no streamer)              asdtype('bool')\n",
      "jet_isG                    (no streamer)              asdtype('bool')\n"
     ]
    }
   ],
   "source": [
    "treename = 'deepJetTree/DeepJetTree'\n",
    "tree = uproot.open(sigfname)[treename]\n",
    "tree.show()"
   ]
  },
  {
   "cell_type": "markdown",
   "metadata": {},
   "source": [
    "The structures you see correspond to two types of arrays:\n",
    " - `asdtype('>f4')`: which is a single flat array and corresponds to jet features\n",
    " - `asjagged(asdtype('>f4'), 10)`: which is a `JaggedArray` and corresponds to the jet daughter features\n",
    "\n",
    "The tree is built such that each row in the tree corresponds to a jet.\n",
    "This is different than a standard HEP tree where each row is an event.\n",
    "The reason for this choice is because reading a singly-jagged array from a ROOT TTree is very efficient.\n",
    "\n",
    "### Truth definition\n",
    "\n",
    "We will first define the truth categories that we want to predict."
   ]
  },
  {
   "cell_type": "code",
   "execution_count": 4,
   "metadata": {},
   "outputs": [],
   "source": [
    "# must create these branches, they are what is output\n",
    "out_truth = ['lightjet', 'bjet', 'TauHTauH']\n",
    "\n",
    "# here make a map for convenience later\n",
    "truth_map = {\n",
    "    'lightjet': ['jet_isUD','jet_isS','jet_isG','jet_isC'],\n",
    "    'bjet': ['jet_isB'],\n",
    "    'TauHTauH': ['jet_isTauHTauH'],\n",
    "}\n",
    "\n",
    "truth_branches = []\n",
    "for ot, bs in truth_map.items():\n",
    "    truth_branches += bs\n",
    "\n",
    "def build_truth(arrays,fname=''):\n",
    "    keep = np.zeros_like(arrays['jet_pt'], dtype=bool)\n",
    "    for t, bs in truth_map.items():\n",
    "        thistruth = np.zeros_like(keep, dtype=bool)\n",
    "        for b in bs:\n",
    "            # only grab a certain type of jet from each sample\n",
    "            if 'SUSY' in fname and 'Tau' not in t: continue\n",
    "            if 'TTJet' in fname and t not in ['bjet','lightjet']: continue\n",
    "            if 'QCD' in fname and t not in ['bjet','lightjet']: continue\n",
    "            if t=='lightjet': # toss 90% of lightjet since we have so much\n",
    "                rdf = np.random.rand(*thistruth.shape)\n",
    "                thistruth = (thistruth | ((arrays[b]==1) & (rdf<0.1)))\n",
    "            else:\n",
    "                thistruth = (thistruth | (arrays[b]==1))\n",
    "        keep = (keep | thistruth)\n",
    "        arrays[t] = thistruth\n",
    "    return arrays, keep"
   ]
  },
  {
   "cell_type": "markdown",
   "metadata": {},
   "source": [
    "Read in the arrays. Up until now, the data was not loaded into memory.\n",
    "We will now access the arrays. We can optionally set a list of branches to load using the syntax `tree.arrays(['branch',...], namedecode=\"utf-8\")`. Here, the `namedecode` argument decodes the branch labels into python strings (rather than byte arrays)."
   ]
  },
  {
   "cell_type": "code",
   "execution_count": 27,
   "metadata": {},
   "outputs": [
    {
     "data": {
      "text/plain": [
       "array([ True, False,  True, ..., False, False, False])"
      ]
     },
     "execution_count": 27,
     "metadata": {},
     "output_type": "execute_result"
    }
   ],
   "source": [
    "arrays = tree.arrays(namedecode=\"utf-8\")\n",
    "arrays, keep = build_truth(arrays)\n",
    "\n",
    "arrays['TauHTauH']"
   ]
  },
  {
   "cell_type": "code",
   "execution_count": 52,
   "metadata": {},
   "outputs": [
    {
     "data": {
      "text/plain": [
       "True"
      ]
     },
     "execution_count": 52,
     "metadata": {},
     "output_type": "execute_result"
    }
   ],
   "source": [
    "b'dog'.decode('utf-8')=='dog'"
   ]
  },
  {
   "cell_type": "code",
   "execution_count": 36,
   "metadata": {},
   "outputs": [
    {
     "data": {
      "text/plain": [
       "array([23.851566, 61.258606, 55.5131  , ..., 71.90393 , 58.982716,\n",
       "       38.354233], dtype=float32)"
      ]
     },
     "execution_count": 36,
     "metadata": {},
     "output_type": "execute_result"
    }
   ],
   "source": [
    "arrays['jet_pt']"
   ]
  },
  {
   "cell_type": "code",
   "execution_count": 38,
   "metadata": {},
   "outputs": [
    {
     "data": {
      "text/plain": [
       "array([ 211., -211.,  211.,   22.,   22.,   22.,   22.], dtype=float32)"
      ]
     },
     "execution_count": 38,
     "metadata": {},
     "output_type": "execute_result"
    }
   ],
   "source": [
    "arrays['jet_daughter_pdgId'][0]"
   ]
  },
  {
   "cell_type": "code",
   "execution_count": null,
   "metadata": {},
   "outputs": [],
   "source": []
  },
  {
   "cell_type": "markdown",
   "metadata": {},
   "source": [
    "### Sample weight\n",
    "\n",
    "The next thing we need to do is reweight the samples. The $p_{T}$ and $|\\eta|$ spectrums are different between the categories. The network would learn this feature and predict the categories primarily on the $p_{T}$ of the object. This is not desirable."
   ]
  },
  {
   "cell_type": "code",
   "execution_count": 42,
   "metadata": {},
   "outputs": [
    {
     "data": {
      "image/png": "[encoded data removed]",
      "text/plain": [
       "<Figure size 432x288 with 1 Axes>"
      ]
     },
     "metadata": {
      "needs_background": "light"
     },
     "output_type": "display_data"
    }
   ],
   "source": [
    "import matplotlib.pyplot as plt\n",
    "fig = plt.figure()\n",
    "plt.hist(arrays['jet_pt'][arrays['bjet']],bins=10,range=(0,200),color='b',histtype='step',density=True)\n",
    "plt.hist(arrays['jet_pt'][arrays['lightjet']],bins=10,range=(0,200),color='k',histtype='step',density=True)\n",
    "plt.hist(arrays['jet_pt'][arrays['TauHTauH']],bins=10,range=(0,200),color='r',histtype='step',density=True)\n",
    "plt.legend(['$b$ jet','light jet',r'$\\tau_{h}\\tau_{h}$'])\n",
    "plt.xlabel('Jet $p_{T}$ [GeV]')\n",
    "plt.ylabel('Unit normalized')\n",
    "plt.show()"
   ]
  },
  {
   "cell_type": "code",
   "execution_count": 7,
   "metadata": {},
   "outputs": [],
   "source": [
    "weight_bins = [\n",
    "    # jet_pt\n",
    "    np.array(\n",
    "        [20,25,30,35,40,50,60,80,100,200,500,1000,2000,7000],\n",
    "        dtype=float\n",
    "    ),\n",
    "    # jet_abseta\n",
    "    np.array(\n",
    "        [0.0,0.5,1.0,1.5,2.0,2.5],\n",
    "        dtype=float\n",
    "    ),\n",
    "]\n",
    "\n",
    "weight_branches = ['jet_pt','jet_eta']\n",
    "weight_bin_labels = ['jet_pt','jet_abseta']\n",
    "weight_bin_axis_labels = [r'Jet $p_{T}$', r'Jet $|\\eta|$']\n",
    "reference = 'TauHTauH'\n",
    "\n",
    "def weight_fname(fnames):\n",
    "    distributions = {}\n",
    "    for arrays in uproot.iterate(fnames,treename,truth_branches+weight_branches,namedecode=\"utf-8\",entrysteps=100000):\n",
    "        arrays['jet_abseta'] = abs(arrays['jet_eta'])\n",
    "        arrays, keep = build_truth(arrays,fname)\n",
    "    \n",
    "        for truth in out_truth:\n",
    "            hist, xedges, yedges = np.histogram2d(\n",
    "                arrays[weight_bin_labels[0]][arrays[truth]],\n",
    "                arrays[weight_bin_labels[1]][arrays[truth]],\n",
    "                weight_bins\n",
    "            )\n",
    "            if truth in distributions:\n",
    "                distributions[truth] = distributions[truth]+hist\n",
    "            else:\n",
    "                distributions[truth] = hist\n",
    "    return distributions, xedges, yedges\n",
    "\n",
    "def divide_distributions(a,b):\n",
    "    out = np.array(a)\n",
    "    for i in range(a.shape[0]):\n",
    "        for j in range(a.shape[1]):\n",
    "            out[i][j] = a[i][j]/b[i][j] if b[i][j] else 1\n",
    "    return out"
   ]
  },
  {
   "cell_type": "code",
   "execution_count": 8,
   "metadata": {},
   "outputs": [],
   "source": [
    "distributions, xedges, yedges = weight_fname(fnames)\n",
    "for truth in out_truth:\n",
    "    distributions[truth] = distributions[truth]/distributions[truth].sum()"
   ]
  },
  {
   "cell_type": "markdown",
   "metadata": {},
   "source": [
    "A simple approach is to define a reference class (here our signal class) and then determine the weight for a given $p_{T}$/$|\\eta|$ bin for the other classes to match the target distribution."
   ]
  },
  {
   "cell_type": "code",
   "execution_count": 55,
   "metadata": {},
   "outputs": [
    {
     "data": {
      "image/png": "[encoded data removed]",
      "text/plain": [
       "<Figure size 432x288 with 2 Axes>"
      ]
     },
     "metadata": {
      "needs_background": "light"
     },
     "output_type": "display_data"
    }
   ],
   "source": [
    "weight_distributions = {}\n",
    "for truth in out_truth:\n",
    "    weight_distributions[truth] = divide_distributions(distributions[reference],distributions[truth])\n",
    "    \n",
    "\n",
    "H = weight_distributions['bjet'].T\n",
    "fig = plt.figure()\n",
    "ax = fig.add_subplot(111)\n",
    "X, Y = np.meshgrid(xedges, yedges)\n",
    "im = ax.pcolormesh(X, Y, H)\n",
    "fig.colorbar(im, ax=ax)\n",
    "ax.set_xscale(\"log\", nonposx='clip')\n",
    "plt.xlabel(weight_bin_axis_labels[0])\n",
    "plt.ylabel(weight_bin_axis_labels[1])\n",
    "plt.show()"
   ]
  },
  {
   "cell_type": "markdown",
   "metadata": {},
   "source": [
    "### Feature normalization\n",
    "\n",
    "An important part of developing a network is normalizing the input features. Networks learn best when the individual features all have similar values. A common approach is to perform a preprocessing step where the means and standard deviations of each feature are determined from a representative sample and then each feature is normalized to 0 with a deviation of 1.\n",
    "\n",
    "Alternatively (and what we will do with features like the jet $|\\eta|$), you can linear normalize the feature from 0 to 1 (-1 to 1). Or, as a modification, for features that are not linearly distributed but follow an exponential profile (like jet $p_{T}$), log-linearize."
   ]
  },
  {
   "cell_type": "code",
   "execution_count": 10,
   "metadata": {},
   "outputs": [],
   "source": [
    "# can optionally linearize branches between [0,1]\n",
    "linear_branches = {\n",
    "    'jet_eta': [-2.5,2.5],\n",
    "    'jet_phi': [-np.pi,np.pi],\n",
    "}\n",
    "# or for momentum, log-linearize\n",
    "loglinear_branches = {\n",
    "    'jet_pt': [20.,7000.],\n",
    "}\n",
    "\n",
    "# the remainding branches will be unit normalized"
   ]
  },
  {
   "cell_type": "markdown",
   "metadata": {},
   "source": [
    "Before we start getting the means of our input features, we need to perform all transformations on the input features that we desire.\n",
    "This step will then be repeated before producing our training dataset (as well as before evaluating the network when we are done).\n",
    "This allows us to use some intuition and physics knowledge to reduce some degrees of freedom to the network, allowing the network to learn faster.\n",
    "\n",
    "The first set of modifications are renormalizing the jet PF constituents to be relative to the jet axis.\n",
    " - $p_{T}^{rel} = p_{T}^{d} / p_{T}^{jet}$\n",
    " - $\\eta^{rel} = \\eta^{d} - \\eta^{jet}$\n",
    " - $\\phi^{rel} = \\phi^{d} - \\phi^{jet}$\n",
    "\n",
    "The second set of modifications splits the daughters based on their PF type: charged hadron, neutral hadron, muon, electron, photon.\n",
    "\n",
    "At this point you could consider other modifications.\n",
    "A common approach for imaged-based jet tagging is to rotate and flip the daughters, while maintaining lorentz invaraniance, to minimize differences between jets.\n",
    "We won't use images here. Instead we will create vectors of features that are fed into a recurrent network.\n",
    "In our case, we should probably sort them into a logical order.\n",
    "Currently this is just the order in MiniAOD.\n",
    "In theory it is $p_{T}$ ordered, but this is not guaranteed, especially after RERECO and modifications to the jet energy that may occur during calibration.\n",
    "\n",
    "Another approach that we can try is a point cloud, where order doesn't matter at all.\n",
    "We will discuss this later."
   ]
  },
  {
   "cell_type": "code",
   "execution_count": 11,
   "metadata": {},
   "outputs": [],
   "source": [
    "def transform(arrays):\n",
    "    for key in branches:\n",
    "        if key not in arrays: continue\n",
    "        # adapt daughters to remove some degrees of freedom\n",
    "        if key=='jet_daughter_pt':\n",
    "            arrays[key] = arrays[key]/arrays['jet_pt']\n",
    "        if key=='jet_daughter_eta':\n",
    "            arrays[key] = arrays[key]-arrays['jet_eta']\n",
    "        if key=='jet_daughter_phi':\n",
    "            arrays[key] = arrays[key]-arrays['jet_phi']\n",
    "\n",
    "        # create reduced arrays of daughters\n",
    "        if 'jet_daughter_' not in key: continue\n",
    "        chkey = key.replace('jet_daughter_','charged_hadron_')\n",
    "        nhkey = key.replace('jet_daughter_','neutral_hadron_')\n",
    "        mkey = key.replace('jet_daughter_','muon_')\n",
    "        ekey = key.replace('jet_daughter_','electron_')\n",
    "        pkey = key.replace('jet_daughter_','photon_')\n",
    "        chmask = ((abs(arrays['jet_daughter_pdgId'])!=13)\n",
    "                & (abs(arrays['jet_daughter_pdgId'])!=11) \n",
    "                & (abs(arrays['jet_daughter_pdgId'])!=22) \n",
    "                & (abs(arrays['jet_daughter_charge'])>0))\n",
    "        nhmask = ((abs(arrays['jet_daughter_pdgId'])!=13)\n",
    "                & (abs(arrays['jet_daughter_pdgId'])!=11) \n",
    "                & (abs(arrays['jet_daughter_pdgId'])!=22) \n",
    "                & (abs(arrays['jet_daughter_charge'])==0))\n",
    "        mmask = (abs(arrays['jet_daughter_pdgId'])==13)\n",
    "        emask = (abs(arrays['jet_daughter_pdgId'])==11)\n",
    "        pmask = (abs(arrays['jet_daughter_pdgId'])==22)\n",
    "        arrays[chkey] = arrays[key][chmask]\n",
    "        arrays[nhkey] = arrays[key][nhmask]\n",
    "        arrays[mkey] = arrays[key][mmask]\n",
    "        arrays[ekey] = arrays[key][emask]\n",
    "        arrays[pkey] = arrays[key][pmask]\n",
    "    return arrays"
   ]
  },
  {
   "cell_type": "markdown",
   "metadata": {},
   "source": [
    "When doing the full training, we processing 10% of the samples to get a representative distribution of each feature.\n",
    "Here I will process only one file. Additionally, I will only use a subset of branches to speed things along."
   ]
  },
  {
   "cell_type": "code",
   "execution_count": 12,
   "metadata": {},
   "outputs": [],
   "source": [
    "branches = [\n",
    "    'jet_pt','jet_eta','jet_phi','jet_mass',\n",
    "    'jet_daughter_pt', 'jet_daughter_eta', 'jet_daughter_phi','jet_daughter_charge',\n",
    "]\n",
    "other_branches = [\n",
    "    'jet_hadronFlavour',\n",
    "    'jet_partonFlavour',\n",
    "    'jet_daughter_pdgId',\n",
    "]\n",
    "charged_hadron_branches = [b.replace('jet_daughter','charged_hadron') for b in branches if b.startswith('jet_daughter')]\n",
    "neutral_hadron_branches = [b.replace('jet_daughter','neutral_hadron') for b in branches if b.startswith('jet_daughter')]\n",
    "muon_branches = [b.replace('jet_daughter','muon') for b in branches if b.startswith('jet_daughter')]\n",
    "electron_branches = [b.replace('jet_daughter','electron') for b in branches if b.startswith('jet_daughter')]\n",
    "photon_branches = [b.replace('jet_daughter','photon') for b in branches if b.startswith('jet_daughter')]\n",
    "branch_groupings = [\n",
    "    [b for b in branches if not 'jet_daughter_' in b],\n",
    "    charged_hadron_branches,\n",
    "    neutral_hadron_branches,\n",
    "    muon_branches,\n",
    "    electron_branches,\n",
    "    photon_branches,\n",
    "]\n",
    "all_branches = []\n",
    "for bg in branch_groupings:\n",
    "    all_branches += bg"
   ]
  },
  {
   "cell_type": "code",
   "execution_count": 13,
   "metadata": {},
   "outputs": [],
   "source": [
    "def mean_fname(fname,i):\n",
    "    means = {key:[] for key in all_branches}\n",
    "    varis = {key:[] for key in all_branches}\n",
    "    for arrays in uproot.iterate(fname,treename,branches+truth_branches+other_branches,namedecode=\"utf-8\",entrysteps=100000):\n",
    "        for key in arrays:\n",
    "            # convert vector<vector<T>> (ObjectArray by default) into nested JaggedArray\n",
    "            if isinstance(arrays[key],awkward.ObjectArray): arrays[key] = awkward.fromiter(arrays[key])\n",
    "        arrays, keep = build_truth(arrays,fname)\n",
    "        for key in arrays:\n",
    "            arrays[key] = arrays[key][keep]\n",
    "\n",
    "        arrays = transform(arrays)\n",
    "        for key in arrays:\n",
    "            if key not in all_branches: continue\n",
    "            # skip jet_daughter since it was renamed\n",
    "            if 'jet_daughter_' in key: continue\n",
    "            a = arrays[key]\n",
    "            while isinstance(a,awkward.JaggedArray): a = a.flatten()\n",
    "            if a.size==0: continue\n",
    "            # remove NaNs, but should understand why they happen\n",
    "            a = a[~np.isnan(a)]\n",
    "            a = a[~np.isinf(a)]\n",
    "            m = a.mean()\n",
    "            v = a.var()\n",
    "            if np.isnan(m):\n",
    "                logging.error(f'NaN found: {key}')\n",
    "                print(fname)\n",
    "                raise ValueError\n",
    "            elif np.isinf(m):\n",
    "                logging.error(f'Inf found: {key}')\n",
    "                print(fname)\n",
    "                raise ValueError\n",
    "            else:\n",
    "                # protection against empty arrays\n",
    "                means[key] += [m]\n",
    "                varis[key] += [v]\n",
    "    return {'means': means, 'varis': varis}"
   ]
  },
  {
   "cell_type": "code",
   "execution_count": 14,
   "metadata": {},
   "outputs": [],
   "source": [
    "result = mean_fname(fnames[0],0)"
   ]
  },
  {
   "cell_type": "markdown",
   "metadata": {},
   "source": [
    "Let's look at the values of the means. This is what we will modify our distributions by later. Importantly, this may not make sense for all variables. For things like the jet $p_{T}$ we will do log-linear instead."
   ]
  },
  {
   "cell_type": "code",
   "execution_count": 15,
   "metadata": {},
   "outputs": [
    {
     "name": "stdout",
     "output_type": "stream",
     "text": [
      "jet_pt: 76.24352264404297 +/- 52.59635925292969\n",
      "jet_eta: 0.001153501565568149 +/- 1.167517066001892\n",
      "jet_phi: 0.0016875877045094967 +/- 1.8125505447387695\n",
      "jet_mass: 11.529624938964844 +/- 6.985304355621338\n",
      "charged_hadron_pt: 0.044893596321344376 +/- 0.06369731575250626\n",
      "charged_hadron_eta: -0.0008813664899207652 +/- 0.16539567708969116\n",
      "charged_hadron_phi: -0.0030924512539058924 +/- 0.8379696607589722\n",
      "charged_hadron_charge: 0.03305397555232048 +/- 0.9994529485702515\n",
      "neutral_hadron_pt: 0.05273522809147835 +/- 0.06657958030700684\n",
      "neutral_hadron_eta: -0.0003842728037852794 +/- 0.17847874760627747\n",
      "neutral_hadron_phi: -0.005058301147073507 +/- 0.9283478856086731\n",
      "neutral_hadron_charge: 0.0 +/- 1.0\n",
      "muon_pt: 0.18077482283115387 +/- 0.1699002981185913\n",
      "muon_eta: 0.0015767131699249148 +/- 0.10934749245643616\n",
      "muon_phi: 0.0007524790125899017 +/- 0.6580774188041687\n",
      "muon_charge: -0.013374929316341877 +/- 0.9998905062675476\n",
      "electron_pt: 0.23122544586658478 +/- 0.17744767665863037\n",
      "electron_eta: -0.000257532432442531 +/- 0.09185706079006195\n",
      "electron_phi: -0.0013444675132632256 +/- 0.5817312002182007\n",
      "electron_charge: -0.007421543356031179 +/- 0.9999649524688721\n",
      "photon_pt: 0.02542165480554104 +/- 0.04698113352060318\n",
      "photon_eta: 0.0003500571474432945 +/- 0.15493915975093842\n",
      "photon_phi: -0.0014507862506434321 +/- 0.9057456851005554\n",
      "photon_charge: 0.0 +/- 1.0\n"
     ]
    }
   ],
   "source": [
    "means = {key: np.array(result['means'][key]).mean() for key in all_branches}\n",
    "varis = {key: np.array(result['varis'][key]).mean() for key in all_branches}\n",
    "stds  = {key: np.sqrt(np.array(result['varis'][key]).mean()) for key in all_branches}\n",
    "# protection against divide by 0 later\n",
    "stds  = {key: std if std else 1.0 for key,std in stds.items()}\n",
    "for key in all_branches:\n",
    "    print(f'{key}: {means[key]} +/- {stds[key]}')"
   ]
  },
  {
   "cell_type": "markdown",
   "metadata": {},
   "source": [
    "### Sample conversion\n",
    "\n",
    "Putting the above together, we now need to convert our input arrays into the output numpy structures that we will feed to our network.\n",
    "The structure for a majority of network trainings are two (or three) arrays:\n",
    " - $X$: the input features\n",
    " - $Y$: the output to predict (we tell it the truth, when we evaluate the network gives us the prediction)\n",
    " - $W$: an optional weight to apply on a given sample. This is used in case we have unbalanced classes/features (which we do).\n",
    " \n",
    " Each of these arrays can actually be more than one numpy array. In our case we will have 6 input arrays, the first corresponding to the jet features and the remaining 5 to the daughter pf candidate features. You can also have multiple outputs. Imagine the case you want to predict dog or cat, but also if it is black or white. You could have 4 classes, or two sets of two classes. We will have one output, the jet category. Finally, the weights are optional. Our weights will be based on the jet $p_{T}$/$|\\eta|$ distributions we calculated before."
   ]
  },
  {
   "cell_type": "code",
   "execution_count": 16,
   "metadata": {},
   "outputs": [],
   "source": [
    "# this function calculates the weight that we will apply for a given jet\n",
    "def weighting(arrays):\n",
    "    # create abseta\n",
    "    arrays['jet_abseta'] = abs(arrays['jet_eta'])\n",
    "    arrays['weight'] = np.zeros(arrays['jet_abseta'].shape)\n",
    "    for truth in out_truth:\n",
    "        for xi in range(len(xedges)-1):\n",
    "            for yi in range(len(yedges)-1):\n",
    "                mask = ((arrays[truth]) \n",
    "                    & (arrays[weight_bin_labels[0]]>xedges[xi]) \n",
    "                    & (arrays[weight_bin_labels[0]]<xedges[xi+1])\n",
    "                    & (arrays[weight_bin_labels[1]]>yedges[yi]) \n",
    "                    & (arrays[weight_bin_labels[1]]<yedges[yi+1]))\n",
    "                arrays['weight'][mask] = weight_distributions[truth][xi][yi]\n",
    "    return arrays"
   ]
  },
  {
   "cell_type": "code",
   "execution_count": 17,
   "metadata": {},
   "outputs": [],
   "source": [
    "# this fuction normalizes each feature using the linear, log-linear, or (default) unit normal weighting from above\n",
    "def normalize(arrays):\n",
    "    for key in all_branches:\n",
    "        if key in linear_branches:\n",
    "            arrays[key] = (arrays[key].clip(*linear_branches[key])-linear_branches[key][0])/(linear_branches[key][1]-linear_branches[key][0])\n",
    "        elif key in loglinear_branches:\n",
    "            arrays[key] = (np.log(arrays[key].clip(*loglinear_branches[key]))-np.log(loglinear_branches[key][0]))/(np.log(loglinear_branches[key][1])-np.log(loglinear_branches[key][0]))\n",
    "        else:\n",
    "            arrays[key] = arrays[key]-means[key]\n",
    "            arrays[key] = arrays[key]/stds[key]\n",
    "    return arrays"
   ]
  },
  {
   "cell_type": "markdown",
   "metadata": {},
   "source": [
    "I mentioned before that we will be using a recurrent network in this example. In our case, we will always feed the same length of vectors into the network. This means we need to truncate jets with more than the maximum number of PF candidates, and zero pad those with less than that number.\n",
    "An alternative approach is to use a point cloud. This is something that I still need to develop."
   ]
  },
  {
   "cell_type": "code",
   "execution_count": 18,
   "metadata": {},
   "outputs": [],
   "source": [
    "# how much to zero pad and truncate branches\n",
    "branch_lengths = {}\n",
    "branch_lengths.update({b:10 for b in charged_hadron_branches})\n",
    "branch_lengths.update({b:10 for b in neutral_hadron_branches})\n",
    "branch_lengths.update({b:4 for b in muon_branches})\n",
    "branch_lengths.update({b:4 for b in electron_branches})\n",
    "branch_lengths.update({b:4 for b in photon_branches})\n",
    "\n",
    "# this function pads and truncates the arrays that can be jagged (like pf candidates)\n",
    "def padtruncate(arrays):\n",
    "    for b,l in branch_lengths.items():\n",
    "        if b not in arrays: continue\n",
    "        arrays[b] = arrays[b].pad(l,clip=True).fillna(0.0).regular()\n",
    "    return arrays"
   ]
  },
  {
   "cell_type": "markdown",
   "metadata": {},
   "source": [
    "And finally, we get to the actual conversion step. In the real process, we will save these all to a numpy array file. However, here we will load them into memory and immediately start training."
   ]
  },
  {
   "cell_type": "code",
   "execution_count": 19,
   "metadata": {},
   "outputs": [],
   "source": [
    "decorrelate = False # don't decorrelate for now\n",
    "def get_data():\n",
    "    outX = {}\n",
    "    outY = {}\n",
    "    outW = {}\n",
    "    for arrays in uproot.iterate(fnames,treename,truth_branches+other_branches+branches,namedecode=\"utf-8\",entrysteps=100000):\n",
    "\n",
    "        # convert vector<vector<T>> (ObjectArray by default) into nested JaggedArray\n",
    "        for key in other_branches+branches:\n",
    "            if isinstance(arrays[key],awkward.ObjectArray): arrays[key] = awkward.fromiter(arrays[key])\n",
    "\n",
    "        # define truth\n",
    "        arrays, keep = build_truth(arrays,fname)\n",
    "\n",
    "        # selections\n",
    "        for key in arrays:\n",
    "            arrays[key] = arrays[key][keep]\n",
    "\n",
    "        # calculate weight\n",
    "        arrays = weighting(arrays)\n",
    "\n",
    "        # transform\n",
    "        arrays = transform(arrays)\n",
    "\n",
    "        # normalize\n",
    "        arrays = normalize(arrays)\n",
    "\n",
    "        # zero pad and truncate\n",
    "        arrays = padtruncate(arrays)\n",
    "    \n",
    "\n",
    "        # zero out NaN/Inf\n",
    "        # we've alread padtruncate into numpy ndarray, so only do the ones we will save\n",
    "        # and dont worry about jagged arrays\n",
    "        for key in arrays:\n",
    "            if key not in all_branches: continue\n",
    "            a = arrays[key]\n",
    "            notgood = (np.isnan(a) | np.isinf(a))\n",
    "            while not isinstance(notgood,np.bool_):\n",
    "                notgood = notgood.any()\n",
    "            if notgood:\n",
    "                a[np.isnan(a)] = 0\n",
    "                a[np.isinf(a)] = 0\n",
    "                arrays[key] = a\n",
    "                \n",
    "\n",
    "        def get_output(arrays,out_truth,selection=None):\n",
    "            if selection is None:\n",
    "                selection = np.ones_like(arrays['weight'], dtype=bool)\n",
    "            W = arrays['weight'][selection]\n",
    "            W = np.reshape(W,(W.shape[0],1))\n",
    "            # note: this stacks the list of arrays that happens if a branch is an array\n",
    "            X = [np.swapaxes(np.stack([arrays[ab][selection] for ab in groupb]),0,1) for groupb in branch_groupings]\n",
    "            if decorrelate:\n",
    "                Y = [np.swapaxes(np.stack([arrays[ot][selection] for ot in out_truth]),0,1),\n",
    "                     np.swapaxes(np.stack([arrays[ov][selection] for ov in out_vars]),0,1)]\n",
    "            else:\n",
    "                Y = [np.swapaxes(np.stack([arrays[ot][selection] for ot in out_truth]),0,1)]\n",
    "            return W, X, Y\n",
    "    \n",
    "        W, X, Y = {}, {}, {}\n",
    "        for truth in out_truth:\n",
    "            W[truth], X[truth], Y[truth] = get_output(arrays,out_truth,arrays[truth])\n",
    "            if truth in outW:\n",
    "                outX[truth] = [np.vstack([outX[truth][i],X[truth][i]]) for i in range(nx)]\n",
    "                outY[truth] = [np.vstack([outY[truth][i],Y[truth][i]]) for i in range(ny)]\n",
    "                outW[truth] = np.vstack([outW[truth],W[truth]])\n",
    "            else:\n",
    "                outX[truth] = X[truth]\n",
    "                outY[truth] = Y[truth]\n",
    "                outW[truth] = W[truth]\n",
    "                \n",
    "    return outX, outY, outW\n",
    "\n"
   ]
  },
  {
   "cell_type": "code",
   "execution_count": 20,
   "metadata": {},
   "outputs": [],
   "source": [
    "nx = 6\n",
    "ny = 1\n",
    "\n",
    "X, Y, W = get_data()\n",
    "\n",
    "# balance the classes\n",
    "class_counts = [Y[truth][0].shape[0] for truth in out_truth]\n",
    "min_c = min(class_counts)\n",
    "\n",
    "X = {truth: [X[truth][i][:min_c] for i in range(nx)] for truth in out_truth}\n",
    "Y = {truth: [Y[truth][i][:min_c] for i in range(ny)] for truth in out_truth}\n",
    "W = {truth: W[truth][:min_c] for truth in out_truth}\n",
    "\n",
    "X = [np.vstack([X[truth][i] for truth in out_truth]) for i in range(nx)]\n",
    "Y = [np.vstack([Y[truth][i] for truth in out_truth]) for i in range(ny)]\n",
    "W = np.vstack([W[truth] for truth in out_truth])\n",
    "W = np.reshape(W,(W.shape[0],))"
   ]
  },
  {
   "cell_type": "markdown",
   "metadata": {},
   "source": [
    "We now have our data with equal category representation and jet $p_{T}$/$|\\eta|$ distributions via weighting."
   ]
  },
  {
   "cell_type": "code",
   "execution_count": 21,
   "metadata": {},
   "outputs": [
    {
     "name": "stdout",
     "output_type": "stream",
     "text": [
      "[(179220, 4), (179220, 4, 10), (179220, 4, 10), (179220, 4, 4), (179220, 4, 4), (179220, 4, 4)]\n",
      "[(179220, 3)]\n",
      "(179220,)\n"
     ]
    }
   ],
   "source": [
    "print([xi.shape for xi in X])\n",
    "print([yi.shape for yi in Y])\n",
    "print(W.shape)"
   ]
  },
  {
   "cell_type": "markdown",
   "metadata": {},
   "source": [
    "At this point, you would want to set aside some data for evaluation peformance. In the main script 10% is set aside. A small change that should be made is to set aside one of the mass points of the signal to evaluate performance on a mass hypothesis that has not yet been checked."
   ]
  },
  {
   "cell_type": "markdown",
   "metadata": {},
   "source": [
    "## Training\n",
    "\n",
    "Let's move on to building the model and training over the data we just produced.\n",
    "This model will be built with 6 inputs. The first input is the global jet features. The remaining 5 are the PF candidate features.\n",
    "Each PF candidate input will pass through a recurrent layer (long short-term memory, LSTM). These will then be concatenated with the global jet features and pass through a dense network until finally reaching the final output layer which has three nodes, one for each category.\n",
    "Between each layer is a dropout layer which prevents over fitting. Before each layer is a batch normalization layer, which does the work of normalizing the inputs to each layer back to 0 with sigma of 1."
   ]
  },
  {
   "cell_type": "code",
   "execution_count": 22,
   "metadata": {},
   "outputs": [],
   "source": [
    "# this is for tensorflow 2\n",
    "from tensorflow.keras.models import Model\n",
    "from tensorflow.keras.layers import Input, Dense, Dropout, Activation, Flatten, Concatenate, LSTM, Convolution1D, Masking, BatchNormalization\n",
    "from tensorflow.keras.optimizers import Adam\n",
    "from tensorflow.keras.callbacks import Callback, EarlyStopping, History, ModelCheckpoint, CSVLogger, ReduceLROnPlateau\n",
    "from tensorflow.keras.utils import Sequence\n",
    "\n",
    "def build_model(input_shapes, num_classes, \n",
    "                batchnorm=True, momentum=0.6, \n",
    "                dropoutRate=0.2, lr=0.0001, \n",
    "                width = 128, depth=4,\n",
    "                pattern=[], kernel=[],\n",
    "                doLSTM=True,lstmWidth=128):\n",
    "    if len(kernel) != len(pattern): kernel = [1]*len(pattern)\n",
    "\n",
    "    inputs = [Input(shape=s) for s in input_shapes]\n",
    "\n",
    "    concat = [inputs[0]]\n",
    "\n",
    "    for i in range(1,len(input_shapes)):\n",
    "        x = inputs[i]\n",
    "        for j,p in enumerate(pattern):\n",
    "            x  = Convolution1D(p, kernel[j], kernel_initializer='lecun_uniform',  activation='relu', name='conv_{}_{}'.format(i,j))(x)\n",
    "            if j<len(pattern)-1:\n",
    "                if batchnorm:\n",
    "                    x = BatchNormalization(momentum=momentum ,name='conv_batchnorm_{}_{}'.format(i,j))(x)\n",
    "                x = Dropout(dropoutRate,name='conv_dropout_{}_{}'.format(i,j))(x)\n",
    "\n",
    "        # LSTM\n",
    "        if doLSTM:\n",
    "            # Not supported with plaidML\n",
    "            #if not usePlaid:\n",
    "            #    x = Masking(mask_value=0., name='masking_{}'.format(i))(x)\n",
    "            x = LSTM(lstmWidth,implementation=2, name='lstm_{}'.format(i))(x)\n",
    "            if batchnorm:\n",
    "                x = BatchNormalization(momentum=momentum,name='lstm_batchnorm_{}'.format(i))(x)\n",
    "            x = Dropout(dropoutRate,name='lstm_dropout_{}'.format(i))(x)\n",
    "        # flatten\n",
    "        else:\n",
    "            x = Flatten()(x)\n",
    "        concat += [x]\n",
    "\n",
    "\n",
    "\n",
    "    if len(concat)>1:\n",
    "        layer = Concatenate()(concat)\n",
    "    else:\n",
    "        layer = concat[0]\n",
    "\n",
    "    for i in range(depth):\n",
    "        layer = Dense(width, activation='relu', kernel_initializer='lecun_uniform', name='dense_{}'.format(i))(layer)\n",
    "        if batchnorm:\n",
    "            layer = BatchNormalization(momentum=momentum, name='dense_batchnorm_{}'.format(i))(layer)\n",
    "        layer = Dropout(dropoutRate, name='dense_dropout_{}'.format(i))(layer)\n",
    "\n",
    "    prediction = Dense(num_classes, activation='softmax', kernel_initializer='lecun_uniform', name='ID_pred')(layer)\n",
    "\n",
    "    outputs = [prediction]\n",
    "\n",
    "    model = Model(inputs=inputs, outputs=outputs)\n",
    "\n",
    "    optimizer = Adam(lr=lr)\n",
    "    loss = ['categorical_crossentropy']\n",
    "    model.compile(\n",
    "        optimizer=optimizer,\n",
    "        loss=loss,\n",
    "        metrics=['accuracy'],\n",
    "    )\n",
    "    return model\n"
   ]
  },
  {
   "cell_type": "markdown",
   "metadata": {},
   "source": [
    "Build the model. We will print out a summary of the layers below. It shows all the layers as well as the number of trainable parameters. In general, more parameters means more learning capacity. In theory, if you have enough densely connected nodes, a single hidden layer will have the same performance as doing something more complicated. However, our graphics cards are limited in size and our lives are limited in time."
   ]
  },
  {
   "cell_type": "code",
   "execution_count": 23,
   "metadata": {},
   "outputs": [
    {
     "name": "stdout",
     "output_type": "stream",
     "text": [
      "Model: \"model\"\n",
      "__________________________________________________________________________________________________\n",
      "Layer (type)                    Output Shape         Param #     Connected to                     \n",
      "==================================================================================================\n",
      "input_2 (InputLayer)            [(None, 4, 10)]      0                                            \n",
      "__________________________________________________________________________________________________\n",
      "input_3 (InputLayer)            [(None, 4, 10)]      0                                            \n",
      "__________________________________________________________________________________________________\n",
      "input_4 (InputLayer)            [(None, 4, 4)]       0                                            \n",
      "__________________________________________________________________________________________________\n",
      "input_5 (InputLayer)            [(None, 4, 4)]       0                                            \n",
      "__________________________________________________________________________________________________\n",
      "input_6 (InputLayer)            [(None, 4, 4)]       0                                            \n",
      "__________________________________________________________________________________________________\n",
      "lstm_1 (LSTM)                   (None, 128)          71168       input_2[0][0]                    \n",
      "__________________________________________________________________________________________________\n",
      "lstm_2 (LSTM)                   (None, 128)          71168       input_3[0][0]                    \n",
      "__________________________________________________________________________________________________\n",
      "lstm_3 (LSTM)                   (None, 128)          68096       input_4[0][0]                    \n",
      "__________________________________________________________________________________________________\n",
      "lstm_4 (LSTM)                   (None, 128)          68096       input_5[0][0]                    \n",
      "__________________________________________________________________________________________________\n",
      "lstm_5 (LSTM)                   (None, 128)          68096       input_6[0][0]                    \n",
      "__________________________________________________________________________________________________\n",
      "lstm_batchnorm_1 (BatchNormaliz (None, 128)          512         lstm_1[0][0]                     \n",
      "__________________________________________________________________________________________________\n",
      "lstm_batchnorm_2 (BatchNormaliz (None, 128)          512         lstm_2[0][0]                     \n",
      "__________________________________________________________________________________________________\n",
      "lstm_batchnorm_3 (BatchNormaliz (None, 128)          512         lstm_3[0][0]                     \n",
      "__________________________________________________________________________________________________\n",
      "lstm_batchnorm_4 (BatchNormaliz (None, 128)          512         lstm_4[0][0]                     \n",
      "__________________________________________________________________________________________________\n",
      "lstm_batchnorm_5 (BatchNormaliz (None, 128)          512         lstm_5[0][0]                     \n",
      "__________________________________________________________________________________________________\n",
      "input_1 (InputLayer)            [(None, 4)]          0                                            \n",
      "__________________________________________________________________________________________________\n",
      "lstm_dropout_1 (Dropout)        (None, 128)          0           lstm_batchnorm_1[0][0]           \n",
      "__________________________________________________________________________________________________\n",
      "lstm_dropout_2 (Dropout)        (None, 128)          0           lstm_batchnorm_2[0][0]           \n",
      "__________________________________________________________________________________________________\n",
      "lstm_dropout_3 (Dropout)        (None, 128)          0           lstm_batchnorm_3[0][0]           \n",
      "__________________________________________________________________________________________________\n",
      "lstm_dropout_4 (Dropout)        (None, 128)          0           lstm_batchnorm_4[0][0]           \n",
      "__________________________________________________________________________________________________\n",
      "lstm_dropout_5 (Dropout)        (None, 128)          0           lstm_batchnorm_5[0][0]           \n",
      "__________________________________________________________________________________________________\n",
      "concatenate (Concatenate)       (None, 644)          0           input_1[0][0]                    \n",
      "                                                                 lstm_dropout_1[0][0]             \n",
      "                                                                 lstm_dropout_2[0][0]             \n",
      "                                                                 lstm_dropout_3[0][0]             \n",
      "                                                                 lstm_dropout_4[0][0]             \n",
      "                                                                 lstm_dropout_5[0][0]             \n",
      "__________________________________________________________________________________________________\n",
      "dense_0 (Dense)                 (None, 128)          82560       concatenate[0][0]                \n",
      "__________________________________________________________________________________________________\n",
      "dense_batchnorm_0 (BatchNormali (None, 128)          512         dense_0[0][0]                    \n",
      "__________________________________________________________________________________________________\n",
      "dense_dropout_0 (Dropout)       (None, 128)          0           dense_batchnorm_0[0][0]          \n",
      "__________________________________________________________________________________________________\n",
      "dense_1 (Dense)                 (None, 128)          16512       dense_dropout_0[0][0]            \n",
      "__________________________________________________________________________________________________\n",
      "dense_batchnorm_1 (BatchNormali (None, 128)          512         dense_1[0][0]                    \n",
      "__________________________________________________________________________________________________\n",
      "dense_dropout_1 (Dropout)       (None, 128)          0           dense_batchnorm_1[0][0]          \n",
      "__________________________________________________________________________________________________\n",
      "dense_2 (Dense)                 (None, 128)          16512       dense_dropout_1[0][0]            \n",
      "__________________________________________________________________________________________________\n",
      "dense_batchnorm_2 (BatchNormali (None, 128)          512         dense_2[0][0]                    \n",
      "__________________________________________________________________________________________________\n",
      "dense_dropout_2 (Dropout)       (None, 128)          0           dense_batchnorm_2[0][0]          \n",
      "__________________________________________________________________________________________________\n",
      "dense_3 (Dense)                 (None, 128)          16512       dense_dropout_2[0][0]            \n",
      "__________________________________________________________________________________________________\n",
      "dense_batchnorm_3 (BatchNormali (None, 128)          512         dense_3[0][0]                    \n",
      "__________________________________________________________________________________________________\n",
      "dense_dropout_3 (Dropout)       (None, 128)          0           dense_batchnorm_3[0][0]          \n",
      "__________________________________________________________________________________________________\n",
      "ID_pred (Dense)                 (None, 3)            387         dense_dropout_3[0][0]            \n",
      "==================================================================================================\n",
      "Total params: 483,715\n",
      "Trainable params: 481,411\n",
      "Non-trainable params: 2,304\n",
      "__________________________________________________________________________________________________\n"
     ]
    }
   ],
   "source": [
    "modelArgs = {\n",
    "    'doLSTM': True,\n",
    "    'lstmWidth': 128,\n",
    "    'depth': 4,\n",
    "    'width': 128,\n",
    "    'batchnorm': True,\n",
    "    'momentum': 0.6, # 0.6-0.85 for large batches (5k+), larger (0.9-0.99) for smaller batches\n",
    "    'dropoutRate': 0.2,\n",
    "    'lr': 1e-3,\n",
    "}\n",
    "model = build_model([X[i].shape[1:] for i in range(nx)],len(out_truth),**modelArgs)\n",
    "model.summary()\n"
   ]
  },
  {
   "cell_type": "markdown",
   "metadata": {},
   "source": [
    "And now we train. We will save the history of the training for plotting later. During the actual training, there will additionally be callbacks that are run during the training to do handy things as it progresses, such as periodically save the model."
   ]
  },
  {
   "cell_type": "code",
   "execution_count": 24,
   "metadata": {},
   "outputs": [
    {
     "name": "stdout",
     "output_type": "stream",
     "text": [
      "Train on 161298 samples, validate on 17922 samples\n",
      "Epoch 1/10\n",
      "161298/161298 [==============================] - 68s 422us/sample - loss: 1.1100 - accuracy: 0.4315 - val_loss: 1.0524 - val_accuracy: 0.5061\n",
      "Epoch 2/10\n",
      "161298/161298 [==============================] - 52s 321us/sample - loss: 0.9900 - accuracy: 0.5036 - val_loss: 1.0317 - val_accuracy: 0.5353\n",
      "Epoch 3/10\n",
      "161298/161298 [==============================] - 51s 315us/sample - loss: 0.9570 - accuracy: 0.5269 - val_loss: 0.9891 - val_accuracy: 0.5768\n",
      "Epoch 4/10\n",
      "161298/161298 [==============================] - 54s 337us/sample - loss: 0.9386 - accuracy: 0.5411 - val_loss: 1.0131 - val_accuracy: 0.5601\n",
      "Epoch 5/10\n",
      "161298/161298 [==============================] - 55s 344us/sample - loss: 0.9266 - accuracy: 0.5478 - val_loss: 0.9754 - val_accuracy: 0.5773\n",
      "Epoch 6/10\n",
      "161298/161298 [==============================] - 56s 349us/sample - loss: 0.9180 - accuracy: 0.5532 - val_loss: 0.9589 - val_accuracy: 0.6191\n",
      "Epoch 7/10\n",
      "161298/161298 [==============================] - 53s 327us/sample - loss: 0.9114 - accuracy: 0.5570 - val_loss: 0.9959 - val_accuracy: 0.5679\n",
      "Epoch 8/10\n",
      "161298/161298 [==============================] - 57s 354us/sample - loss: 0.9063 - accuracy: 0.5601 - val_loss: 0.9571 - val_accuracy: 0.5974\n",
      "Epoch 9/10\n",
      "161298/161298 [==============================] - 54s 333us/sample - loss: 0.9022 - accuracy: 0.5635 - val_loss: 0.9664 - val_accuracy: 0.5789\n",
      "Epoch 10/10\n",
      "161298/161298 [==============================] - 53s 330us/sample - loss: 0.8998 - accuracy: 0.5644 - val_loss: 0.9630 - val_accuracy: 0.5906\n"
     ]
    }
   ],
   "source": [
    "\n",
    "history = model.fit(X, Y,\n",
    "                    batch_size = 2000,\n",
    "                    epochs = 10, \n",
    "                    verbose = 1,\n",
    "                    validation_split = 0.1,\n",
    "                    shuffle = True,\n",
    "                    sample_weight = W,\n",
    "                    )"
   ]
  },
  {
   "cell_type": "markdown",
   "metadata": {},
   "source": [
    "Let's look at the loss and accuracy as a function of epoch."
   ]
  },
  {
   "cell_type": "code",
   "execution_count": 25,
   "metadata": {},
   "outputs": [
    {
     "data": {
      "image/png": "[encoded data removed]",
      "text/plain": [
       "<Figure size 432x288 with 1 Axes>"
      ]
     },
     "metadata": {
      "needs_background": "light"
     },
     "output_type": "display_data"
    }
   ],
   "source": [
    "loss = history.history['loss']\n",
    "val_loss = history.history['val_loss']\n",
    "acc = history.history['accuracy']\n",
    "val_acc = history.history['val_accuracy']\n",
    "\n",
    "epoch_count = range(1, len(loss) + 1)\n",
    "\n",
    "plt.figure()\n",
    "plt.plot(epoch_count, loss, 'r--')\n",
    "plt.plot(epoch_count, val_loss, 'b-')\n",
    "plt.legend(['Train', 'Validation'])\n",
    "plt.xlabel('Epoch')\n",
    "plt.ylabel('Loss')\n",
    "plt.show()"
   ]
  },
  {
   "cell_type": "code",
   "execution_count": 26,
   "metadata": {},
   "outputs": [
    {
     "data": {
      "image/png": "[encoded data removed]",
      "text/plain": [
       "<Figure size 432x288 with 1 Axes>"
      ]
     },
     "metadata": {
      "needs_background": "light"
     },
     "output_type": "display_data"
    }
   ],
   "source": [
    "plt.figure()\n",
    "plt.plot(epoch_count, acc, 'r--')\n",
    "plt.plot(epoch_count, val_acc, 'b-')\n",
    "plt.legend(['Train', 'Validation'])\n",
    "plt.xlabel('Epoch')\n",
    "plt.ylabel('Accuracy')\n",
    "plt.show()"
   ]
  },
  {
   "cell_type": "markdown",
   "metadata": {},
   "source": [
    "Of course, running over the full data with more epochs results in a much better network. With the ~4 million samples in the full dataset you can expect a loss of ~0.4 and accuracy ~0.83 with this network."
   ]
  },
  {
   "cell_type": "code",
   "execution_count": null,
   "metadata": {},
   "outputs": [],
   "source": []
  }
 ],
 "metadata": {
  "kernelspec": {
   "display_name": "Python 3",
   "language": "python",
   "name": "python3"
  },
  "language_info": {
   "codemirror_mode": {
    "name": "ipython",
    "version": 3
   },
   "file_extension": ".py",
   "mimetype": "text/x-python",
   "name": "python",
   "nbconvert_exporter": "python",
   "pygments_lexer": "ipython3",
   "version": "3.7.3"
  }
 },
 "nbformat": 4,
 "nbformat_minor": 4
}
